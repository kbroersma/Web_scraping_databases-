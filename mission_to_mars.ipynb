{
 "cells": [
  {
   "cell_type": "code",
   "execution_count": null,
   "metadata": {},
   "outputs": [],
   "source": [
    "import numpy as np\n",
    "import pandas as pd\n",
    "import matplotlib.pyplot as plt\n",
    "\n",
    "from bs4 import BeautifulSoup as bs\n",
    "\n",
    "from splinter import Browser"
   ]
  },
  {
   "cell_type": "code",
   "execution_count": null,
   "metadata": {},
   "outputs": [],
   "source": [
    "!which chromedriver\n",
    "executable_path = {'executable_path': '/usr/local/bin/chromedriver'}\n",
    "browser = Browser('chrome', **executable_path)\n"
   ]
  },
  {
   "cell_type": "code",
   "execution_count": null,
   "metadata": {},
   "outputs": [],
   "source": [
    "# go tu URL\n",
    "url = 'https://mars.nasa.gov/news/'\n",
    "browser.visit(url)"
   ]
  },
  {
   "cell_type": "code",
   "execution_count": null,
   "metadata": {},
   "outputs": [],
   "source": []
  },
  {
   "cell_type": "code",
   "execution_count": null,
   "metadata": {},
   "outputs": [],
   "source": [
    "#use beautiful soup and parse using html \n",
    "html = browser.html\n",
    "soup = bs(html, 'html.parser')"
   ]
  },
  {
   "cell_type": "code",
   "execution_count": null,
   "metadata": {},
   "outputs": [],
   "source": [
    "#main variables to hold title and paragraph\n",
    "news_title = soup.find('div', 'content_title', 'a').text\n",
    "news_paragraph = soup.find('div', 'inner_description').text\n",
    "print(f\"Title: {news_title}\")\n",
    "print(f\"Paragraph: {news_paragraph}\")"
   ]
  },
  {
   "cell_type": "code",
   "execution_count": null,
   "metadata": {},
   "outputs": [],
   "source": [
    "#Nasa Images\n",
    "home_url = \"https:https://www.jpl.nasa.gov/spaceimages/?search=&category=Mars\"\n",
    "featured_image_url = \"https://www.jpl.nasa.gov\"\n",
    "browser.visit(home_url)"
   ]
  },
  {
   "cell_type": "code",
   "execution_count": null,
   "metadata": {},
   "outputs": [],
   "source": [
    "image_html = browser.html\n",
    "image_soup = bs(image_html, 'html.parser')"
   ]
  },
  {
   "cell_type": "code",
   "execution_count": null,
   "metadata": {},
   "outputs": [],
   "source": [
    "image_items = image_soup.find(\"div\",{\"class\":\"carousel_items\"}).find(\"article\")\n",
    "\n",
    "#https://stackoverflow.com/questions/8825788/use-of-slice-command-with-split\n",
    "image_featured = image_items['style'].split(':')[1].split('\\'')[1]\n",
    "image_title = image_items.find(\"h1\",{\"class\":\"media_feature_title\"}).text.rstrip().lstrip()\n",
    "\n",
    "#print image items \n",
    "print(image_featured)\n",
    "print(image_title)\n",
    "\n",
    "image_link = featured_image_url + image_featured\n",
    "print(image_link)"
   ]
  },
  {
   "cell_type": "code",
   "execution_count": null,
   "metadata": {},
   "outputs": [],
   "source": []
  },
  {
   "cell_type": "code",
   "execution_count": null,
   "metadata": {},
   "outputs": [],
   "source": [
    "#weather "
   ]
  },
  {
   "cell_type": "code",
   "execution_count": null,
   "metadata": {},
   "outputs": [],
   "source": [
    " url = 'https://twitter.com/marswxreport?lang=en'\n",
    "browser.visit(url)"
   ]
  },
  {
   "cell_type": "code",
   "execution_count": null,
   "metadata": {},
   "outputs": [],
   "source": [
    "html = browser.html\n",
    "weather_soup = BeautifulSoup(html, 'html.parser')"
   ]
  },
  {
   "cell_type": "code",
   "execution_count": null,
   "metadata": {},
   "outputs": [],
   "source": [
    "weather_home_url = \"https://twitter.com/marswxreport?lang=en\"\n",
    "browser.visit(weather_home_url)"
   ]
  },
  {
   "cell_type": "code",
   "execution_count": null,
   "metadata": {},
   "outputs": [],
   "source": [
    "weather_html = browser.html\n",
    "weather_soup = bs(weather_html, \"html.parser\")\n",
    "\n",
    "weather_mars = weather_soup.find(\"ol\",{\"id\":\"stream-items-id\"}).find(\"li\").find(\"p\").text\n",
    "print(weather_mars)"
   ]
  },
  {
   "cell_type": "code",
   "execution_count": null,
   "metadata": {},
   "outputs": [],
   "source": [
    "#Facts "
   ]
  },
  {
   "cell_type": "code",
   "execution_count": null,
   "metadata": {},
   "outputs": [],
   "source": [
    "\n",
    "df = pd.read_html('http://space-facts.com/mars/')[0]\n",
    "df.columns=['Description', 'Value']\n",
    "df.set_index('Description', inplace=True)\n",
    "df"
   ]
  },
  {
   "cell_type": "code",
   "execution_count": null,
   "metadata": {},
   "outputs": [],
   "source": [
    "df.to_html()"
   ]
  },
  {
   "cell_type": "code",
   "execution_count": null,
   "metadata": {},
   "outputs": [],
   "source": [
    "#Hemisphere"
   ]
  },
  {
   "cell_type": "code",
   "execution_count": null,
   "metadata": {},
   "outputs": [],
   "source": [
    "hemisphere_url = \"https://astrogeology.usgs.gov/search/results?q=hemisphere+enhanced&k1=target&v1=Mars\"\n",
    "browser.visit(hs_url)"
   ]
  },
  {
   "cell_type": "code",
   "execution_count": null,
   "metadata": {},
   "outputs": [],
   "source": [
    "hemisphere_soup = bs(browser.html,\"html.parser\")\n",
    "hemisphere_items = hs_soup.find(\"div\",{\"id\":\"product-section\"}).find_all(\"div\",{\"class\":\"item\"})\n",
    "hemisphere_data = []"
   ]
  },
  {
   "cell_type": "code",
   "execution_count": null,
   "metadata": {},
   "outputs": [],
   "source": [
    "hemisphere_home_url = hemisphere_url.rsplit('/', 2)[0]\n",
    "hemisphere_home_url"
   ]
  },
  {
   "cell_type": "code",
   "execution_count": null,
   "metadata": {},
   "outputs": [],
   "source": [
    "hs_list = []\n",
    "\n",
    "timecounter = 0\n",
    "for hsitem in hemisphere_items:\n",
    "    print(hsitems)"
   ]
  },
  {
   "cell_type": "code",
   "execution_count": null,
   "metadata": {},
   "outputs": [],
   "source": [
    "hs_image_url = hsitem.find(\"a\")[\"href\"]\n",
    "hs_image_main_url = hemisphere_home_url + hs_image_url\n",
    "       \n",
    "    print(f'Base URL: {hs_image_url}')\n",
    "    print(f'Main URL: {hs_image_main_url}')\n",
    "    \n",
    "    #title of the image\n",
    "    hs_image_title = hsitem.find(\"div\",{\"class\":\"description\"}).find(\"a\").find(\"h3\").text\n",
    "    \n",
    "    print(f'Image Title: {hs_image_title}')\n",
    "    "
   ]
  },
  {
   "cell_type": "code",
   "execution_count": null,
   "metadata": {},
   "outputs": [],
   "source": [
    " browser.visit(hs_image_main_url)\n",
    "    \n",
    "    hsimage_soup = bs(browser.html,\"html.parser\")\n",
    "    hs_download_items = hsimage_soup.find(\"div\",{\"class\":\"downloads\"})\n",
    "    fullhs_image = hs_download_items.find(\"li\").find(\"a\")[\"href\"]\n",
    "    print(f'Full URL: {hs_full_image_url}')"
   ]
  },
  {
   "cell_type": "code",
   "execution_count": null,
   "metadata": {},
   "outputs": [],
   "source": [
    "hs_dict = {\"title\": hs_image_title, \"img_url\": fullhs_image_}\n",
    "    \n",
    "    #append to a list \n",
    "    hs_list.append(hs_dict)"
   ]
  },
  {
   "cell_type": "code",
   "execution_count": null,
   "metadata": {},
   "outputs": [],
   "source": [
    "hs_image_df = pd.DataFrame(hs_list)\n",
    "hs_image_df"
   ]
  },
  {
   "cell_type": "code",
   "execution_count": null,
   "metadata": {},
   "outputs": [],
   "source": []
  },
  {
   "cell_type": "code",
   "execution_count": null,
   "metadata": {},
   "outputs": [],
   "source": []
  }
 ],
 "metadata": {
  "kernelspec": {
   "display_name": "Python 3",
   "language": "python",
   "name": "python3"
  },
  "language_info": {
   "codemirror_mode": {
    "name": "ipython",
    "version": 3
   },
   "file_extension": ".py",
   "mimetype": "text/x-python",
   "name": "python",
   "nbconvert_exporter": "python",
   "pygments_lexer": "ipython3",
   "version": "3.6.5"
  }
 },
 "nbformat": 4,
 "nbformat_minor": 2
}
